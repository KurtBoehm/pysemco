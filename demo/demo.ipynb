{
 "cells": [
  {
   "cell_type": "code",
   "execution_count": 1,
   "metadata": {},
   "outputs": [
    {
     "data": {
      "text/html": [
       "<div style=\"font-family:monospace;white-space: pre;\"><span style=\"color:#EA4335;\">def</span> <span style=\"color:#319243;\">a</span>[<span style=\"font-weight:bold;color:#673AB7;\">T</span>](<span style=\"font-weight:bold;color:#EF6C00;\">l</span>: <span style=\"color:#673AB7;\">list</span>[<span style=\"font-weight:bold;color:#673AB7;\">T</span>]) -&gt; <span style=\"font-weight:bold;color:#673AB7;\">T</span>: <span style=\"color:#EA4335;\">return</span> <span style=\"font-weight:bold;color:#EF6C00;\">l</span>[<span style=\"color:#0D47A1;\">0</span>]<br/><span style=\"color:#EF6C00;\">b</span> = <span style=\"color:#319243;\">a</span>([<span style=\"color:#0D47A1;\">1</span>, <span style=\"color:#0D47A1;\">2.5</span>])</div>"
      ],
      "text/plain": [
       "<pysemco.tokens.html_convert.HtmlDisplay at 0x72982f033170>"
      ]
     },
     "metadata": {},
     "output_type": "display_data"
    }
   ],
   "source": [
    "from pysemco import compute_tokens, HtmlDisplay, html_style_google\n",
    "\n",
    "code = \"\"\"\\\n",
    "def a[T](l: list[T]) -> T: return l[0]\n",
    "b = a([1, 2.5])\n",
    "\"\"\"\n",
    "\n",
    "toks = await compute_tokens(\"python\", \"\", \"\", code)\n",
    "display(HtmlDisplay(toks, html_style_google))"
   ]
  },
  {
   "cell_type": "code",
   "execution_count": 2,
   "metadata": {},
   "outputs": [
    {
     "data": {
      "text/html": [
       "<div style=\"font-family:monospace;white-space: pre;\"><span style=\"color:#EA4335;\">from</span> <span style=\"color:#E91E63;\">dataclasses</span> <span style=\"color:#EA4335;\">import</span> <span style=\"color:#319243;\">dataclass</span><br/><span style=\"color:#EA4335;\">from</span> <span style=\"color:#E91E63;\">sys</span> <span style=\"color:#EA4335;\">import</span> <span style=\"color:#EF6C00;\">argv</span><br/><br/><br/><span style=\"color:#757575;\"># A simple dataclass</span><br/><span style=\"color:#1976D2;\">@dataclass</span><br/><span style=\"color:#EA4335;\">class</span> <span style=\"color:#673AB7;\">Abc</span>[<span style=\"font-weight:bold;color:#673AB7;\">T</span>]:<br/>    <span style=\"font-style:italic;color:#EF6C00;\">a</span>: <span style=\"color:#673AB7;\">int</span><br/>    <span style=\"font-style:italic;color:#EF6C00;\">b</span>: <span style=\"font-weight:bold;color:#673AB7;\">T</span><br/>    <span style=\"font-style:italic;color:#EF6C00;\">c</span>: <span style=\"color:#673AB7;\">str</span> | <span style=\"color:#0D47A1;\">None</span><br/><br/>    <span style=\"color:#EA4335;\">def</span> <span style=\"font-style:italic;color:#EF6C00;\">__getattr__</span>(<span style=\"font-weight:bold;color:#EF6C00;\">self</span>, <span style=\"font-weight:bold;color:#EF6C00;\">name</span>: <span style=\"color:#673AB7;\">str</span>):<br/>        <span style=\"color:#EA4335;\">return</span> <span style=\"font-weight:bold;color:#EF6C00;\">name</span><br/><br/><br/><span style=\"color:#EF6C00;\">dummy</span> = (<span style=\"color:#0D47A1;\">True</span>, <span style=\"color:#0D47A1;\">False</span>, <span style=\"color:#0D47A1;\">None</span>, <span style=\"color:#673AB7;\">str</span>, <span style=\"color:#673AB7;\">float</span>, <span style=\"color:#319243;\">sum</span>)<br/><br/><span style=\"color:#EF6C00;\">abc</span> = <span style=\"color:#673AB7;\">Abc</span>(<span style=\"font-style:italic;color:#EF6C00;\">a</span>=<span style=\"color:#0D47A1;\">0</span>, <span style=\"font-style:italic;color:#EF6C00;\">b</span>=<span style=\"color:#0D47A1;\">32.5</span>, <span style=\"font-style:italic;color:#EF6C00;\">c</span>=<span style=\"color:#0D47A1;\">\"abc\"</span>)<br/><span style=\"color:#319243;\">print</span>(<span style=\"color:#EA4335;\">f</span><span style=\"color:#0D47A1;\">\"</span>{<span style=\"color:#EF6C00;\">argv</span>[<span style=\"color:#0D47A1;\">0</span>]}<span style=\"color:#0D47A1;\"> </span>{<span style=\"color:#319243;\">len</span>(<span style=\"color:#EF6C00;\">argv</span>)}<span style=\"color:#0D47A1;\"> </span>{<span style=\"color:#EF6C00;\">abc</span>.<span style=\"font-style:italic;color:#EF6C00;\">d</span>}<span style=\"color:#0D47A1;\">\"</span>)</div>"
      ],
      "text/plain": [
       "<pysemco.tokens.html_convert.HtmlDisplay at 0x72982f033170>"
      ]
     },
     "metadata": {},
     "output_type": "display_data"
    }
   ],
   "source": [
    "from pathlib import Path\n",
    "\n",
    "from pysemco import compute_tokens, HtmlDisplay, html_style_google\n",
    "\n",
    "toks = await compute_tokens(\"python\", \"\", \"demo.py\")\n",
    "display(HtmlDisplay(toks, html_style_google))"
   ]
  }
 ],
 "metadata": {
  "kernelspec": {
   "display_name": "Python 3",
   "language": "python",
   "name": "python3"
  },
  "language_info": {
   "codemirror_mode": {
    "name": "ipython",
    "version": 3
   },
   "file_extension": ".py",
   "mimetype": "text/x-python",
   "name": "python",
   "nbconvert_exporter": "python",
   "pygments_lexer": "ipython3",
   "version": "3.12.7"
  }
 },
 "nbformat": 4,
 "nbformat_minor": 2
}
