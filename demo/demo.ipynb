{
 "cells": [
  {
   "cell_type": "code",
   "execution_count": 1,
   "metadata": {},
   "outputs": [
    {
     "data": {
      "text/html": [
       "<div style=\"font-family:monospace;white-space: pre;\"><span style=\"color:#EA4335;\">def</span> <span style=\"color:#319243;\">a</span>[<span style=\"font-weight:bold;color:#673AB7;\">T</span>](<span style=\"font-weight:bold;color:#EF6C00;\">l</span>: <span style=\"color:#673AB7;\">list</span>[<span style=\"font-weight:bold;color:#673AB7;\">T</span>]) -&gt; <span style=\"font-weight:bold;color:#673AB7;\">T</span>: <span style=\"color:#EA4335;\">return</span> <span style=\"font-weight:bold;color:#EF6C00;\">l</span>[<span style=\"color:#0D47A1;\">0</span>]<br/><span style=\"color:#EF6C00;\">b</span> = <span style=\"color:#319243;\">a</span>([<span style=\"color:#0D47A1;\">1</span>, <span style=\"color:#0D47A1;\">2.5</span>])</div>"
      ],
      "text/plain": [
       "HtmlDisplay(tokens=SemanticTokens(txt='def a[T](l: list[T]) -> T: return l[0]\\nb = a([1, 2.5])\\n', toks=[SemanticToken(line=0, start=0, length=3, token_type='keyword', token_modifiers=[]), SemanticToken(line=0, start=4, length=1, token_type='function', token_modifiers=[]), SemanticToken(line=0, start=6, length=1, token_type='typeParameter', token_modifiers=[]), SemanticToken(line=0, start=9, length=1, token_type='parameter', token_modifiers=[]), SemanticToken(line=0, start=12, length=4, token_type='class', token_modifiers=[]), SemanticToken(line=0, start=17, length=1, token_type='typeParameter', token_modifiers=[]), SemanticToken(line=0, start=24, length=1, token_type='typeParameter', token_modifiers=[]), SemanticToken(line=0, start=27, length=6, token_type='keyword', token_modifiers=[]), SemanticToken(line=0, start=34, length=1, token_type='parameter', token_modifiers=[]), SemanticToken(line=0, start=36, length=1, token_type='literal-int', token_modifiers=[]), SemanticToken(line=1, start=0, length=1, token_type='variable', token_modifiers=[]), SemanticToken(line=1, start=4, length=1, token_type='function', token_modifiers=[]), SemanticToken(line=1, start=7, length=1, token_type='literal-int', token_modifiers=[]), SemanticToken(line=1, start=10, length=3, token_type='literal-float', token_modifiers=[])]), token_style={'attribute': 'color:#1976D2;', 'builtin-variable': 'color:#EF6C00;', 'class': 'color:#673AB7;', 'comment': 'color:#757575;', 'concept': 'color:#3F51B5;', 'decorator': 'color:#1976D2;', 'enum': 'color:#673AB7;', 'enumMember': 'color:#0D47A1;', 'function': 'color:#319243;', 'keyword': 'color:#EA4335;', 'keyword-fun': 'color:#319243;', 'keyword-type': 'color:#673AB7;', 'keyword-value': 'color:#0D47A1;', 'label': 'color:#1976D2;', 'literal-affix': 'color:#EA4335;', 'literal-character': 'color:#0D47A1;', 'literal-float': 'color:#0D47A1;', 'literal-include': 'color:#0D47A1;', 'literal-int': 'color:#0D47A1;', 'literal-string': 'color:#0D47A1;', 'macro': 'color:#1976D2;', 'method': 'font-style:italic;color:#319243;', 'namespace': 'color:#E91E63;', 'parameter': 'font-weight:bold;color:#EF6C00;', 'preprocessor': 'color:#EA4335;', 'property': 'font-style:italic;color:#EF6C00;', 'type': 'color:#673AB7;', 'typeParameter': 'font-weight:bold;color:#673AB7;', 'variable': 'color:#EF6C00;'})"
      ]
     },
     "metadata": {},
     "output_type": "display_data"
    }
   ],
   "source": [
    "from pysemco import compute_tokens, HtmlDisplay, html_style_google\n",
    "\n",
    "code = \"\"\"\\\n",
    "def a[T](l: list[T]) -> T: return l[0]\n",
    "b = a([1, 2.5])\n",
    "\"\"\"\n",
    "\n",
    "toks = await compute_tokens(\"python\", \"\", \"\", code)\n",
    "display(HtmlDisplay(toks, html_style_google))"
   ]
  },
  {
   "cell_type": "code",
   "execution_count": 2,
   "metadata": {},
   "outputs": [
    {
     "data": {
      "text/html": [
       "<div style=\"font-family:monospace;white-space: pre;\"><span style=\"color:#EA4335;\">from</span> <span style=\"color:#E91E63;\">dataclasses</span> <span style=\"color:#EA4335;\">import</span> <span style=\"color:#319243;\">dataclass</span><br/><span style=\"color:#EA4335;\">from</span> <span style=\"color:#E91E63;\">sys</span> <span style=\"color:#EA4335;\">import</span> <span style=\"color:#EF6C00;\">argv</span><br/><br/><br/><span style=\"color:#757575;\"># A simple dataclass</span><br/><span style=\"color:#1976D2;\">@dataclass</span><br/><span style=\"color:#EA4335;\">class</span> <span style=\"color:#673AB7;\">Abc</span>[<span style=\"font-weight:bold;color:#673AB7;\">T</span>]:<br/>    <span style=\"font-style:italic;color:#EF6C00;\">a</span>: <span style=\"color:#673AB7;\">int</span><br/>    <span style=\"font-style:italic;color:#EF6C00;\">b</span>: <span style=\"font-weight:bold;color:#673AB7;\">T</span><br/>    <span style=\"font-style:italic;color:#EF6C00;\">c</span>: <span style=\"color:#673AB7;\">str</span> | <span style=\"color:#0D47A1;\">None</span><br/><br/>    <span style=\"color:#EA4335;\">def</span> <span style=\"font-style:italic;color:#EF6C00;\">__getattr__</span>(<span style=\"font-weight:bold;color:#EF6C00;\">self</span>, <span style=\"font-weight:bold;color:#EF6C00;\">name</span>: <span style=\"color:#673AB7;\">str</span>):<br/>        <span style=\"color:#EA4335;\">return</span> <span style=\"font-weight:bold;color:#EF6C00;\">name</span><br/><br/><br/><span style=\"color:#EF6C00;\">dummy</span> = (<span style=\"color:#0D47A1;\">True</span>, <span style=\"color:#0D47A1;\">False</span>, <span style=\"color:#0D47A1;\">None</span>, <span style=\"color:#673AB7;\">str</span>, <span style=\"color:#673AB7;\">float</span>, <span style=\"color:#319243;\">sum</span>)<br/><br/><span style=\"color:#EF6C00;\">abc</span> = <span style=\"color:#673AB7;\">Abc</span>(<span style=\"font-style:italic;color:#EF6C00;\">a</span>=<span style=\"color:#0D47A1;\">0</span>, <span style=\"font-style:italic;color:#EF6C00;\">b</span>=<span style=\"color:#0D47A1;\">32.5</span>, <span style=\"font-style:italic;color:#EF6C00;\">c</span>=<span style=\"color:#0D47A1;\">\"abc\"</span>)<br/><span style=\"color:#319243;\">print</span>(<span style=\"color:#EA4335;\">f</span><span style=\"color:#0D47A1;\">\"</span>{<span style=\"color:#EF6C00;\">argv</span>[<span style=\"color:#0D47A1;\">0</span>]}<span style=\"color:#0D47A1;\"> </span>{<span style=\"color:#319243;\">len</span>(<span style=\"color:#EF6C00;\">argv</span>)}<span style=\"color:#0D47A1;\"> </span>{<span style=\"color:#EF6C00;\">abc</span>.<span style=\"font-style:italic;color:#EF6C00;\">d</span>}<span style=\"color:#0D47A1;\">\"</span>)</div>"
      ],
      "text/plain": [
       "HtmlDisplay(tokens=SemanticTokens(txt='from dataclasses import dataclass\\nfrom sys import argv\\n\\n\\n# A simple dataclass\\n@dataclass\\nclass Abc[T]:\\n    a: int\\n    b: T\\n    c: str | None\\n\\n    def __getattr__(self, name: str):\\n        return name\\n\\n\\ndummy = (True, False, None, str, float, sum)\\n\\nabc = Abc(a=0, b=32.5, c=\"abc\")\\nprint(f\"{argv[0]} {len(argv)} {abc.d}\")\\n', toks=[SemanticToken(line=0, start=0, length=4, token_type='keyword', token_modifiers=[]), SemanticToken(line=0, start=5, length=11, token_type='namespace', token_modifiers=[]), SemanticToken(line=0, start=17, length=6, token_type='keyword', token_modifiers=[]), SemanticToken(line=0, start=24, length=9, token_type='function', token_modifiers=[]), SemanticToken(line=1, start=0, length=4, token_type='keyword', token_modifiers=[]), SemanticToken(line=1, start=5, length=3, token_type='namespace', token_modifiers=[]), SemanticToken(line=1, start=9, length=6, token_type='keyword', token_modifiers=[]), SemanticToken(line=1, start=16, length=4, token_type='variable', token_modifiers=[]), SemanticToken(line=4, start=0, length=20, token_type='comment', token_modifiers=[]), SemanticToken(line=5, start=0, length=10, token_type='decorator', token_modifiers=[]), SemanticToken(line=6, start=0, length=5, token_type='keyword', token_modifiers=[]), SemanticToken(line=6, start=6, length=3, token_type='class', token_modifiers=[]), SemanticToken(line=6, start=10, length=1, token_type='typeParameter', token_modifiers=[]), SemanticToken(line=7, start=4, length=1, token_type='property', token_modifiers=[]), SemanticToken(line=7, start=7, length=3, token_type='class', token_modifiers=[]), SemanticToken(line=8, start=4, length=1, token_type='property', token_modifiers=[]), SemanticToken(line=8, start=7, length=1, token_type='typeParameter', token_modifiers=[]), SemanticToken(line=9, start=4, length=1, token_type='property', token_modifiers=[]), SemanticToken(line=9, start=7, length=3, token_type='class', token_modifiers=[]), SemanticToken(line=9, start=13, length=4, token_type='keyword-value', token_modifiers=[]), SemanticToken(line=11, start=4, length=3, token_type='keyword', token_modifiers=[]), SemanticToken(line=11, start=8, length=11, token_type='property', token_modifiers=[]), SemanticToken(line=11, start=20, length=4, token_type='parameter', token_modifiers=[]), SemanticToken(line=11, start=26, length=4, token_type='parameter', token_modifiers=[]), SemanticToken(line=11, start=32, length=3, token_type='class', token_modifiers=[]), SemanticToken(line=12, start=8, length=6, token_type='keyword', token_modifiers=[]), SemanticToken(line=12, start=15, length=4, token_type='parameter', token_modifiers=[]), SemanticToken(line=15, start=0, length=5, token_type='variable', token_modifiers=[]), SemanticToken(line=15, start=9, length=4, token_type='keyword-value', token_modifiers=[]), SemanticToken(line=15, start=15, length=5, token_type='keyword-value', token_modifiers=[]), SemanticToken(line=15, start=22, length=4, token_type='keyword-value', token_modifiers=[]), SemanticToken(line=15, start=28, length=3, token_type='class', token_modifiers=[]), SemanticToken(line=15, start=33, length=5, token_type='class', token_modifiers=[]), SemanticToken(line=15, start=40, length=3, token_type='function', token_modifiers=[]), SemanticToken(line=17, start=0, length=3, token_type='variable', token_modifiers=[]), SemanticToken(line=17, start=6, length=3, token_type='class', token_modifiers=[]), SemanticToken(line=17, start=10, length=1, token_type='property', token_modifiers=[]), SemanticToken(line=17, start=12, length=1, token_type='literal-int', token_modifiers=[]), SemanticToken(line=17, start=15, length=1, token_type='property', token_modifiers=[]), SemanticToken(line=17, start=17, length=4, token_type='literal-float', token_modifiers=[]), SemanticToken(line=17, start=23, length=1, token_type='property', token_modifiers=[]), SemanticToken(line=17, start=25, length=5, token_type='literal-string', token_modifiers=[]), SemanticToken(line=18, start=0, length=5, token_type='function', token_modifiers=[]), SemanticToken(line=18, start=6, length=1, token_type='literal-affix', token_modifiers=[]), SemanticToken(line=18, start=7, length=1, token_type='literal-string', token_modifiers=[]), SemanticToken(line=18, start=9, length=4, token_type='variable', token_modifiers=[]), SemanticToken(line=18, start=14, length=1, token_type='literal-int', token_modifiers=[]), SemanticToken(line=18, start=17, length=1, token_type='literal-string', token_modifiers=[]), SemanticToken(line=18, start=19, length=3, token_type='function', token_modifiers=[]), SemanticToken(line=18, start=23, length=4, token_type='variable', token_modifiers=[]), SemanticToken(line=18, start=29, length=1, token_type='literal-string', token_modifiers=[]), SemanticToken(line=18, start=31, length=3, token_type='variable', token_modifiers=[]), SemanticToken(line=18, start=35, length=1, token_type='property', token_modifiers=[]), SemanticToken(line=18, start=37, length=1, token_type='literal-string', token_modifiers=[])]), token_style={'attribute': 'color:#1976D2;', 'builtin-variable': 'color:#EF6C00;', 'class': 'color:#673AB7;', 'comment': 'color:#757575;', 'concept': 'color:#3F51B5;', 'decorator': 'color:#1976D2;', 'enum': 'color:#673AB7;', 'enumMember': 'color:#0D47A1;', 'function': 'color:#319243;', 'keyword': 'color:#EA4335;', 'keyword-fun': 'color:#319243;', 'keyword-type': 'color:#673AB7;', 'keyword-value': 'color:#0D47A1;', 'label': 'color:#1976D2;', 'literal-affix': 'color:#EA4335;', 'literal-character': 'color:#0D47A1;', 'literal-float': 'color:#0D47A1;', 'literal-include': 'color:#0D47A1;', 'literal-int': 'color:#0D47A1;', 'literal-string': 'color:#0D47A1;', 'macro': 'color:#1976D2;', 'method': 'font-style:italic;color:#319243;', 'namespace': 'color:#E91E63;', 'parameter': 'font-weight:bold;color:#EF6C00;', 'preprocessor': 'color:#EA4335;', 'property': 'font-style:italic;color:#EF6C00;', 'type': 'color:#673AB7;', 'typeParameter': 'font-weight:bold;color:#673AB7;', 'variable': 'color:#EF6C00;'})"
      ]
     },
     "metadata": {},
     "output_type": "display_data"
    }
   ],
   "source": [
    "from pysemco import compute_tokens, HtmlDisplay, html_style_google\n",
    "\n",
    "toks = await compute_tokens(\"python\", \"snippets\", \"demo.py\")\n",
    "display(HtmlDisplay(toks, html_style_google))"
   ]
  }
 ],
 "metadata": {
  "kernelspec": {
   "display_name": "Python 3",
   "language": "python",
   "name": "python3"
  },
  "language_info": {
   "codemirror_mode": {
    "name": "ipython",
    "version": 3
   },
   "file_extension": ".py",
   "mimetype": "text/x-python",
   "name": "python",
   "nbconvert_exporter": "python",
   "pygments_lexer": "ipython3",
   "version": "3.12.7"
  }
 },
 "nbformat": 4,
 "nbformat_minor": 2
}
